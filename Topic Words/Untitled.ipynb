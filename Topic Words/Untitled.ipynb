{
 "cells": [
  {
   "cell_type": "markdown",
   "metadata": {},
   "source": [
    "Code thực hiện bài báo: http://www.aclweb.org/anthology/C10-2069?fbclid=IwAR0EHm40BYzdpoZ9BfkMZeJJgKZ6drbp3_-TgCKtLGwbymcYmGGxZbwJvU8"
   ]
  },
  {
   "cell_type": "markdown",
   "metadata": {},
   "source": [
    "# Preprocessing Data"
   ]
  },
  {
   "cell_type": "code",
   "execution_count": 3,
   "metadata": {},
   "outputs": [],
   "source": [
    "from pyvi import ViTokenizer, ViPosTagger\n",
    "from tqdm import tqdm\n",
    "import numpy as np\n",
    "import gensim\n",
    "import numpy as np"
   ]
  },
  {
   "cell_type": "code",
   "execution_count": null,
   "metadata": {
    "scrolled": true
   },
   "outputs": [
    {
     "name": "stderr",
     "output_type": "stream",
     "text": [
      "\r",
      " 33%|███▎      | 1004/3080 [00:30<01:02, 33.46it/s]"
     ]
    }
   ],
   "source": [
    "import os \n",
    "dir_path = os.path.dirname(os.path.realpath(os.getcwd()))\n",
    "dir_path = os.path.join(dir_path, 'Data')\n",
    "\n",
    "# Load data from dataset folder\n",
    "# VNTC-master/Data/10Topics/Ver1.1/Train_Full\n",
    "# VNTC-master/Data/10Topics/Ver1.1/Test_Full\n",
    "def get_data(folder_path):\n",
    "    X = []\n",
    "    y = []\n",
    "    dirs = os.listdir(folder_path)\n",
    "    for path in dirs:\n",
    "        file_paths = os.listdir(os.path.join(folder_path, path))\n",
    "        for file_path in tqdm(file_paths):\n",
    "            with open(os.path.join(folder_path, path, file_path), 'r', encoding=\"utf-16\") as f:\n",
    "                lines = f.readlines()\n",
    "                lines = ' '.join(lines)\n",
    "                lines = gensim.utils.simple_preprocess(lines)\n",
    "                lines = ' '.join(lines)\n",
    "                lines = ViTokenizer.tokenize(lines)\n",
    "\n",
    "                X.append(lines)\n",
    "                y.append(path)\n",
    "\n",
    "    return X, y\n",
    "\n",
    "train_path = os.path.join(dir_path, 'VNTC-master/Data/10Topics/Ver1.1/Train_Full')\n",
    "X_data, y_data = get_data(train_path)"
   ]
  },
  {
   "cell_type": "code",
   "execution_count": null,
   "metadata": {},
   "outputs": [],
   "source": [
    "import pickle\n",
    "\n",
    "pickle.dump(X_data, open('data/X_data.pkl', 'wb'))\n",
    "pickle.dump(y_data, open('data/y_data.pkl', 'wb'))"
   ]
  },
  {
   "cell_type": "code",
   "execution_count": 5,
   "metadata": {
    "scrolled": true
   },
   "outputs": [],
   "source": [
    "# test_path = os.path.join(dir_path, 'VNTC-master/Data/10Topics/Ver1.1/Test_Full')\n",
    "# X_test, y_test = get_data(test_path)"
   ]
  },
  {
   "cell_type": "code",
   "execution_count": 6,
   "metadata": {},
   "outputs": [],
   "source": [
    "# pickle.dump(X_test, open('data/X_test.pkl', 'wb'))\n",
    "# pickle.dump(y_test, open('data/y_test.pkl', 'wb'))"
   ]
  },
  {
   "cell_type": "code",
   "execution_count": 8,
   "metadata": {},
   "outputs": [],
   "source": [
    "#### Load data\n",
    "import pickle\n",
    "\n",
    "X_data = pickle.load(open('data/X_data.pkl', 'rb'))\n",
    "y_data = pickle.load(open('data/y_data.pkl', 'rb'))"
   ]
  },
  {
   "cell_type": "markdown",
   "metadata": {},
   "source": [
    "## Bigram"
   ]
  },
  {
   "cell_type": "code",
   "execution_count": 9,
   "metadata": {},
   "outputs": [
    {
     "data": {
      "text/plain": [
       "'ông đồ cuối_cùng trên đảo vua tần cỡi cọp chơi tám cõi trời xanh kiếm quang sáng chói tiên_nhân cầm đuốc khói nhẹ_nhàng mắt say nhòa lệ theo cung đàn ngồi trên bãi biển lộng_gió ông đồ võ_hiển đạt bất_ngờ đọc cho tôi nghe bài tần vương ẩm_tửu của lý_hạ người được mệnh_danh là thi quỉ đời đường tiếng_tăm và tác_phẩm truyền lưu hậu_thế không thua_kém thi tiên lý bạch thi phật vương_duy thi thánh đỗ_phủ rồi ông tâm_sự tôi sinh ra nhằm lúc nho_học mạt_vận may_mắn được học dăm chữ thánh_hiền bây_giờ thỉnh_thoảng tôi chỉ còn dùng mớ chữ_nghĩa một thời vang bóng này khi có bạn tâm_giao hoặc ai đó nhờ viết câu_đối xưa men theo con đường bãi biển rợp bóng dừa xanh tôi về nhà ông thôn tây xã an vĩnh huyện đảo lý_sơn quảng_ngãi thời_gian như dừng lại trong ngôi nhà_cổ của ông đồ cuối_cùng hòn đảo này những bức hoành_phi câu_đối được viết bằng mực_tàu bút_lông nét chữ như rồng múa phượng bay treo từ hàng cột bờ hiên vào tận bàn_thờ tổ_tiên giữa gian nhà chính bộ sập gụ đã trải hơn trăm năm sáng bóng_nước thời_gian đó là nơi ông thường ngồi xếp_bằng để đọc sách và múa bút khi có người xin chữ trang_trọng nhất trong ngôi nhà_cổ là chiếc tủ bằng gỗ lim lúc_nào cũng ấm mùi nhang trầm phảng_phất trên hàng linh vị thờ các vị tổ_tiên bút tự của ông đồ đạt có khắp_nơi trên đảo lý_sơn vượt biển ra lý_sơn tôi tình_cờ biết ông đồ võ_hiển đạt khi được chứng_kiến một buổi an_táng theo nghi_lễ_mộ gió các ngư_dân bất_hạnh phải gửi xác dưới lòng đại_dương thi_hài trong quan_tài nhỏ chỉ là hình_nhân đất_sét nhưng lễ_nghi vẫn nghiêm linh với lời tụng kinh cờ phướn cầu_siêu những người đã ra đi mãi_mãi không về anh cán_bộ văn_phòng ủy_ban huyện cho biết gần nửa thế_kỷ qua đảo này chỉ có một thầy đồ duy_nhất và cũng có_lẽ là thầy đồ cuối_cùng không chỉ các đình chùa mà tất_cả chữ_nho trong bất_cứ ngôi nhà nào trên đảo đều do một tay ông viết ông kể hồi còn nhỏ vùng này chỉ có một trường tiểu_học dạy tiếng pháp ai muốn học cao hơn phải ra huế hoặc vào qui nhơn cụ thân_sinh của ông là một đồ nho ẩn_dật nhưng phóng_khoáng cho con đi học tiếng pháp nhưng vẫn khuyên ông nên dùi mài kinh_sử với nho_học đến bây_giờ ông vẫn nhớ lời cha dạy chữ pháp giúp con mở_mang văn_minh văn_hóa nhưng chữ_nho mới đủ thâm sâu để dạy con đạo làm người con_người sinh ra_đời không đem đến được gì và chết cũng chẳng mang theo được cái chi cuối_cùng chỉ có cái đạo làm người là lại nghe lời cha_ông theo cả nho_học lẫn pháp ngữ nhưng lấy chữ_nho làm trọng ông may_mắn có nhiều người thầy khả_kính uyên_thâm cả chữ_nho lẫn chữ pháp chín năm theo các thầy thêm mười năm tự học từ sách_vở đến năm_tuổi võ_hiển đạt đã trở_thành một người dạy chữ và cho chữ thánh_hiền đó cũng là lúc đất_nước giao_thời hầu_hết lớp trẻ đã chuyển sang dùi mài quốc_ngữ hoặc tiếng pháp chữ_nho dần_dần trở_thành linh tự trên các bàn_thờ đình_chùa và trong câu_đối của các bậc lớn_tuổi giáo huấn lớp hậu_sinh gìn_giữ đạo_đức gia phong đến giờ ông vẫn còn gìn_giữ nguyên_vẹn bộ tứ_thư được in từ năm và nhiều đầu_sách cổ khác ngôi nhà_cổ của ông đồ trong mùa thu_hoạch tỏi không gặp thời ông nối bước cha_lui về ẩn_dật hòn đảo nhỏ giữa biển ban_ngày vừa làm nghề cá vừa trồng rau khoai kiếm sống thanh_nhàn chiều_tối mở lớp gõ đầu_trẻ tuy_nhiên cho_dù kính_trọng chữ thánh_hiền nhưng nhiều gia_đình cũng không muốn con_em mình theo nho_học chỉ còn một thời vang bóng vừa khó học vừa không_thể xin được việc_làm thế là lớp_học của ông cứ vắng dần vắng dần cho đến lúc không_thể tồn_tại được nữa không gõ đầu_trẻ nữa nhưng ông trở_thành một người cho chữ thánh_hiền nổi_tiếng lý_sơn dù tuổi mới ngoài tam_thập chữ của ông trầm_mặc buồn âm linh tự nơi thờ_cúng đội lính hoàng sa_kiêu hùng thuở xưa và những người đã bỏ_mạng giữa biển khơi chữ của ông trang_nghiêm như lời gia huấn trên liễn thờ các bậc tiền hiền chữ của ông cũng huyền_ảo vi_diệu trên bàn_thờ nam hải tướng quân vị thần tôn_kính của ngư_dân quanh năm treo mạng trên đầu sóng ngọn gió người vui cũng tìm đến ông để xin mấy chữ mới treo trên bàn_thờ tổ_tiên trong ngày cưới_xin cất nhà mới người buồn cũng nài ông vài chữ cho trọn đạo_nghĩa trong lễ tang ma lúc_nào ông cũng vui_vẻ viết tặng khi có người đến xin chữ bởi theo ông đó không chỉ là bổn_phận mà còn là cái đạo của người theo nho_học chọn nhân_nghĩa để sống đời đã sắp đến hồi về với tổ_tiên_ông nói không còn gì phải hối_tiếc nhưng chỉ buồn một điều là chưa có một người học_trò chân_truyền nào để gửi_gắm lại cái chữ_cái đạo của thánh_hiền kể_cả con_cái con ông người bám đảo làm nghề biển người vào sài_gòn bươn_chải mưu_sinh nhiều lúc tôi đành ngẫm_nghĩ hình_như cái gì cũng có vận thịnh_suy của nó nho_học cũng vậy thôi ông trầm_ngâm tâm_sự rồi mài mực trải giấy khai_bút tặng tôi một chữ tâm làm hành_trang trở về với đất_liền theo ông đồ đạt người cho chữ thánh_hiền ngày_nay tuy không còn khắt_khe như xưa nữa nhưng vẫn có một_số điều cần tôn_trọng gìn_giữ để bút_lực có_thể đạt đến sự tinh_tế đến cái hồn sâu thẳm của từng nét chữ ông không viết khi mưa_gió ông cũng không cầm bút khi trời mây_âm hay lúc tịch dương ngả bóng ảm_đạm ông thường đề bút vào buổi sáng thời_điểm mặt_trời bắt_đầu tỏa nắng ấm sau khi thắp nén hương trầm lên bàn_thờ và cạn mấy tách trà ông mới chấm bút_lông vào mực và lúc nét bút bắt_đầu lướt trên giấy đỏ tâm người viết thanh_tịnh như mặt_nước hồ thu không vọng danh_lợi không sợ không khinh cũng không vui không buồn tất_cả chỉ còn có chữ và tâm người viết sẽ bộc_lộ trên cái thần cái hồn của nét chữ'"
      ]
     },
     "execution_count": 9,
     "metadata": {},
     "output_type": "execute_result"
    }
   ],
   "source": [
    "X_data[0]"
   ]
  },
  {
   "cell_type": "code",
   "execution_count": 24,
   "metadata": {},
   "outputs": [],
   "source": [
    "corpus = ''\n",
    "for X in X_data:\n",
    "    corpus += X"
   ]
  },
  {
   "cell_type": "code",
   "execution_count": 25,
   "metadata": {},
   "outputs": [
    {
     "data": {
      "text/plain": [
       "69792128"
      ]
     },
     "execution_count": 25,
     "metadata": {},
     "output_type": "execute_result"
    }
   ],
   "source": [
    "len(corpus)"
   ]
  },
  {
   "cell_type": "code",
   "execution_count": 26,
   "metadata": {},
   "outputs": [],
   "source": [
    "from nltk.collocations import *\n",
    "import nltk"
   ]
  },
  {
   "cell_type": "code",
   "execution_count": 29,
   "metadata": {},
   "outputs": [],
   "source": [
    "finder = BigramCollocationFinder.from_words(corpus.split(), window_size = 10)\n",
    "# số lần xuất hiện ít nhất của một từ, dùng để lọc những từ có số lượng ít hơn ngưỡng nhất định min_frequent,\n",
    "# nếu không muốn lọc thì để là 1\n",
    "min_frequent = 1\n",
    "finder.apply_freq_filter(min_frequent)\n",
    "\n",
    "# bigram - cặp gồm 2 từ\n",
    "bigram_measures = nltk.collocations.BigramAssocMeasures()"
   ]
  },
  {
   "cell_type": "code",
   "execution_count": 33,
   "metadata": {},
   "outputs": [],
   "source": [
    "# xem số lần xuất hiện cùng nhau của từng cặp\n",
    "# for k,v in finder.ngram_fd.items():\n",
    "#     print(k,v)"
   ]
  },
  {
   "cell_type": "code",
   "execution_count": 34,
   "metadata": {},
   "outputs": [],
   "source": [
    "# điểm PMI của từng cặp\n",
    "pmi_results = finder.score_ngrams(bigram_measures.pmi)"
   ]
  },
  {
   "cell_type": "code",
   "execution_count": 35,
   "metadata": {},
   "outputs": [],
   "source": [
    "# chuyển về dictionary để tìm kiếm\n",
    "pmi_results_dict = dict(pmi_results)"
   ]
  },
  {
   "cell_type": "code",
   "execution_count": 42,
   "metadata": {},
   "outputs": [
    {
     "data": {
      "text/plain": [
       "6.852442811586141"
      ]
     },
     "execution_count": 42,
     "metadata": {},
     "output_type": "execute_result"
    }
   ],
   "source": [
    "pmi_results_dict[('cứ', 'dần')]"
   ]
  },
  {
   "cell_type": "markdown",
   "metadata": {},
   "source": [
    "# Điểm PMI cho một cặp từ\n",
    "\n",
    "$$ PMI(w_i, w_j) = \\log\\dfrac{P(w_i, w_j)}{P(w_i)P(w_j)} $$"
   ]
  },
  {
   "cell_type": "code",
   "execution_count": 45,
   "metadata": {},
   "outputs": [],
   "source": [
    "# lấy điểm PMI cho cặp từ\n",
    "def get_pmi_of_pair(word1, word2):\n",
    "    try:\n",
    "        score = pmi_results_dict[(word1, word2)]\n",
    "    except:\n",
    "        score = 0\n",
    "    finally:\n",
    "        return score"
   ]
  },
  {
   "cell_type": "code",
   "execution_count": 46,
   "metadata": {},
   "outputs": [
    {
     "data": {
      "text/plain": [
       "1.4601253888073815"
      ]
     },
     "execution_count": 46,
     "metadata": {},
     "output_type": "execute_result"
    }
   ],
   "source": [
    "get_pmi_of_pair('tôi', \"một\")"
   ]
  },
  {
   "cell_type": "markdown",
   "metadata": {},
   "source": [
    "# Điểm PMI trung bình của một từ trong danh sách \n",
    "Danh sách ở trong bài báo là 10 từ, nên 1/9 có nghĩa là so sánh với 9 từ còn lại\n",
    "$$ avg-PMI(w_i) = \\dfrac{1}{9}\\sum_jPMI(wi, w_j) $$"
   ]
  },
  {
   "cell_type": "code",
   "execution_count": 47,
   "metadata": {},
   "outputs": [],
   "source": [
    "# lấy điểm PMI của từ trong danh sách từ đưa ra\n",
    "def get_average_pmi_for_word(word, words_list):   \n",
    "    _sum = 0\n",
    "    _count = len(words_list)\n",
    "    for compared_word in words_list:\n",
    "        _sum += get_pmi_of_pair(word, compared_word)\n",
    "        \n",
    "    return _sum/_count"
   ]
  },
  {
   "cell_type": "code",
   "execution_count": 57,
   "metadata": {},
   "outputs": [
    {
     "data": {
      "text/plain": [
       "0.06825178101438283"
      ]
     },
     "execution_count": 57,
     "metadata": {},
     "output_type": "execute_result"
    }
   ],
   "source": [
    "get_average_pmi_for_word(\"một\", [\"một\", \"hai\", \"không\", \"có\", \"đứng\", \"ngồi\", \"nằm\", \"nhiều\", \"ít\", \"nhỏ\"])"
   ]
  },
  {
   "cell_type": "markdown",
   "metadata": {},
   "source": [
    "# Tìm từ đại diện tốt nhất (topic word) trong danh sách các từ - words_list"
   ]
  },
  {
   "cell_type": "code",
   "execution_count": 54,
   "metadata": {},
   "outputs": [],
   "source": [
    "# tìm từ đại diện tốt nhất (topic word) trong danh sách các từ - words_list\n",
    "def get_best_word(words_list):\n",
    "    topic_word = words_list[0]\n",
    "    max_score = 0\n",
    "    for word in words_list[1:]:\n",
    "        score = get_average_pmi_for_word(word, words_list)\n",
    "        \n",
    "        if score > max_score:\n",
    "            max_score = score\n",
    "            topic_word = word\n",
    "    return topic_word"
   ]
  },
  {
   "cell_type": "code",
   "execution_count": 56,
   "metadata": {},
   "outputs": [
    {
     "data": {
      "text/plain": [
       "'không'"
      ]
     },
     "execution_count": 56,
     "metadata": {},
     "output_type": "execute_result"
    }
   ],
   "source": [
    "get_best_word([\"một\", \"hai\", \"không\", \"có\", \"đứng\", \"ngồi\", \"nằm\", \"nhiều\", \"ít\", \"nhỏ\"])"
   ]
  },
  {
   "cell_type": "markdown",
   "metadata": {},
   "source": [
    "## Kết luận: chỉ cần chạy code từ đầu đến cuối, rồi dùng hàm cuối cùng, truyền một danh sách các từ vào, nó sẽ tìm ra topic word.\n",
    "## Các công thức tính CP1, CP2 có vẻ không liên quan lắm, nên không cần tính ở đây. "
   ]
  },
  {
   "cell_type": "code",
   "execution_count": null,
   "metadata": {},
   "outputs": [],
   "source": []
  },
  {
   "cell_type": "code",
   "execution_count": null,
   "metadata": {},
   "outputs": [],
   "source": []
  },
  {
   "cell_type": "code",
   "execution_count": null,
   "metadata": {},
   "outputs": [],
   "source": []
  }
 ],
 "metadata": {
  "kernelspec": {
   "display_name": "Python 3",
   "language": "python",
   "name": "python3"
  },
  "language_info": {
   "codemirror_mode": {
    "name": "ipython",
    "version": 3
   },
   "file_extension": ".py",
   "mimetype": "text/x-python",
   "name": "python",
   "nbconvert_exporter": "python",
   "pygments_lexer": "ipython3",
   "version": "3.6.5"
  }
 },
 "nbformat": 4,
 "nbformat_minor": 2
}
