{
 "cells": [
  {
   "cell_type": "markdown",
   "metadata": {},
   "source": [
    "# Abstract"
   ]
  },
  {
   "cell_type": "markdown",
   "metadata": {},
   "source": [
    "In this tutorial, we will implement some algorithms that finding the similarity documents. The document dataset was crawled from Viblo website: $\\textbf{viblo.asia}$"
   ]
  },
  {
   "cell_type": "markdown",
   "metadata": {},
   "source": [
    "## Algorithms\n",
    "1. TF-IDF + SVD\n",
    "2. DOC2VEC"
   ]
  },
  {
   "cell_type": "markdown",
   "metadata": {},
   "source": [
    "# Preprocessing Data"
   ]
  },
  {
   "cell_type": "code",
   "execution_count": 1,
   "metadata": {},
   "outputs": [],
   "source": [
    "import gensim\n",
    "import os\n",
    "import collections\n",
    "import smart_open\n",
    "import random\n",
    "import pickle\n",
    "from pyvi import ViTokenizer, ViPosTagger\n",
    "from tqdm import tqdm\n",
    "import numpy as np"
   ]
  },
  {
   "cell_type": "markdown",
   "metadata": {},
   "source": [
    "We will load data in data folder. The data in \"contents_markdown_viblo.pkl\" is a list of document."
   ]
  },
  {
   "cell_type": "code",
   "execution_count": 2,
   "metadata": {},
   "outputs": [
    {
     "ename": "FileNotFoundError",
     "evalue": "[Errno 2] No such file or directory: 'data/contents_markdown_viblo.pkl'",
     "output_type": "error",
     "traceback": [
      "\u001b[0;31m---------------------------------------------------------------------------\u001b[0m",
      "\u001b[0;31mFileNotFoundError\u001b[0m                         Traceback (most recent call last)",
      "\u001b[0;32m<ipython-input-2-84c55f04dd8a>\u001b[0m in \u001b[0;36m<module>\u001b[0;34m()\u001b[0m\n\u001b[0;32m----> 1\u001b[0;31m \u001b[0;32mwith\u001b[0m \u001b[0mopen\u001b[0m\u001b[0;34m(\u001b[0m\u001b[0;34m'data/contents_markdown_viblo.pkl'\u001b[0m\u001b[0;34m,\u001b[0m \u001b[0;34m'rb'\u001b[0m\u001b[0;34m)\u001b[0m \u001b[0;32mas\u001b[0m \u001b[0mf\u001b[0m\u001b[0;34m:\u001b[0m\u001b[0;34m\u001b[0m\u001b[0m\n\u001b[0m\u001b[1;32m      2\u001b[0m     \u001b[0mcontent\u001b[0m \u001b[0;34m=\u001b[0m \u001b[0mpickle\u001b[0m\u001b[0;34m.\u001b[0m\u001b[0mload\u001b[0m\u001b[0;34m(\u001b[0m\u001b[0mf\u001b[0m\u001b[0;34m)\u001b[0m\u001b[0;34m\u001b[0m\u001b[0m\n",
      "\u001b[0;31mFileNotFoundError\u001b[0m: [Errno 2] No such file or directory: 'data/contents_markdown_viblo.pkl'"
     ]
    }
   ],
   "source": [
    "with open('data/contents_markdown_viblo.pkl', 'rb') as f:\n",
    "    content = pickle.load(f)"
   ]
  },
  {
   "cell_type": "code",
   "execution_count": 6,
   "metadata": {
    "scrolled": false
   },
   "outputs": [
    {
     "name": "stdout",
     "output_type": "stream",
     "text": [
      "<class 'list'>\n",
      "14157\n"
     ]
    }
   ],
   "source": [
    "print(type(content))\n",
    "print(len(content))"
   ]
  },
  {
   "cell_type": "code",
   "execution_count": 40,
   "metadata": {},
   "outputs": [
    {
     "name": "stdout",
     "output_type": "stream",
     "text": [
      "### Trong phần này tôi sẽ giúp các bạn mới học `React Native` hiểu qua phần cài đặt project đã tồn tại và cùng nhau tìm hiểu khái niệm cơ bản nhất của React Native.\n",
      "# I. Một số chia sẻ cá nhân\n",
      "\n",
      "## 1. Yêu cầu thứ 1\n",
      "Yêu cầu để thực hiện theo bài viết này, bạn hãy cài đặt môi trường theo bài viết dưới đây\n",
      "\n",
      "### [Học React Native từ cơ bản đến nâng cao - Phần 1 Hướng dẫn cài đặt và chạy \"Hello world\"](https://viblo.asia/p/hoc-react-native-tu-co-ban-den-nang-cao-phan-1-huong-dan-cai-dat-va-chay-hello-world-RQqKLYW0Z7z)\n",
      "\n",
      "## 2. Yêu cầu thứ 2\n",
      "Khi muốn code React Native bạn sẽ phải chọn cho mình 1 Editors phù hợp cho mình\n",
      "\n",
      "Bạn có thể tham khảo các Editors theo link dưới đây\n",
      "\n",
      "### [Top 10 Editors For React Native Mobile App Development](https://www.icicletech.com/blog/top-10-editors-for-react-native)\n",
      "\n",
      "Còn lựa chọn của tôi là [**`Visual Studio Code`**](https://code.visualstudio.com/) vì đơn giản là dùng khá nhẹ và tiện dụng\n",
      "\n",
      "![](https://i.imgur.com/ZfAI0VK.png)\n",
      "\n",
      "Nếu bạn cũng chọn **`Visual Studio Code`** như tôi thì tiếp tục cài các Extension theo bài viết dưới đây để giúp việc code React Native trở nên dễ dàng hơn\n",
      "\n",
      "### VSCode for React Native: \n",
      "[https://medium.com/react-native-training/vscode-for-react-native-526ec4a368ce](https://medium.com/react-native-training/vscode-for-react-native-526ec4a368ce)\n",
      "\n",
      "## 3. Yêu cầu thứ 3\n",
      "\n",
      "Kéo code ví dụ React Native về máy bạn:\n",
      "\n",
      "- Bạn mở terminal \n",
      "\n",
      "    **`git clone https://github.com/oTranThanhNghia/LearnReactNative.git`**\n",
      "\n",
      "- Khi đã kéo code về xong vào trong folder `LearnReactNative` mà vừa kéo về\n",
      "\n",
      "    gõ lệnh sau để cấu hình project: **`npm install react-native@0.55.4`**\n",
      "\n",
      "- Cấu hình lại Android SDK trong file `local.properties` trong folder của Android `LearnReactNative\\android` ở  như sau: \n",
      "```\n",
      "sdk.dir=D\\:\\\\Android\\\\Sdk\n",
      "```\n",
      "- Chạy android gõ: `react-native run-android`\n",
      "    Khi nào terminal hiển thị là bạn đã thành công. \n",
      "    \n",
      "![](https://i.imgur.com/ianKmsQ.png)\n",
      "\n",
      "Nếu bạn gặp phải lỗi sau thì hãy kiểm tra lại `port 8081` có đang sử dụng không. Nếu có thì tắt nó đi và gõ lại lệnh `npm start` để khởi động lại Metro Bundler\n",
      "\n",
      "![](https://i.imgur.com/GjvmD4f.png)\n",
      "\n",
      "* Ngoài ra bạn hãy vào index.js để chọn example để chạy nhé:\n",
      "\n",
      "![](https://i.imgur.com/WSeVoA8.png)\n",
      "\n",
      "# II. Khái niệm cơ bản trong React Native\n",
      "## 1. Props\n",
      "Hầu hết các thành phần có thể custom được khi được tạo ra với các tham số khác nhau. Các tham số này được gọi là `props`\n",
      "Ví dụ về `Image` sẽ giúp bạn sử dụng prop `source` để hiển thị ảnh\n",
      "\n",
      "```javascript\n",
      "import React, {Component} from 'react';\n",
      "import {Image} from 'react-native';\n",
      "\n",
      "export default class Bananas extends Component {\n",
      "    render() {\n",
      "      let pic = {\n",
      "        uri: 'https://upload.wikimedia.org/wikipedia/commons/d/de/Bananavarieties.jpg'\n",
      "      };\n",
      "      return (\n",
      "        <Image source={pic} style={{width: 193, height: 110}}/>\n",
      "      );\n",
      "    }\n",
      "}\n",
      "```\n",
      "\n",
      "\n",
      "![](https://i.imgur.com/BLVZLjk.png)\n",
      "\n",
      "Components bạn viết ra cũng có thể sử dụng `props`. Ví dụ dưới đây sẽ mô tả cách sử dụng `props` trong Component riêng biệt\n",
      "\n",
      "``` javascript\n",
      "import React, { Component } from 'react';\n",
      "import { Text, View } from 'react-native';\n",
      "\n",
      "class Greeting extends Component {\n",
      "  render() {\n",
      "    return (\n",
      "      <Text>Hello {this.props.name}!</Text>\n",
      "    );\n",
      "  }\n",
      "}\n",
      "\n",
      "export default class LotsOfGreetings extends Component {\n",
      "  render() {\n",
      "    return (\n",
      "      <View style={{alignItems: 'center'}}>\n",
      "        <Greeting name='Rexxar' />\n",
      "        <Greeting name='Jaina' />\n",
      "        <Greeting name='Valeera' />\n",
      "      </View>\n",
      "    );\n",
      "  }\n",
      "}\n",
      "```\n",
      "\n",
      "![](https://i.imgur.com/ThWUrYc.png)\n",
      "\n",
      "Sử dụng prop `name` giúp bạn có thể custom `Greeting` component 1 cách dễ dàng và giúp tái sử dụng lại component ở nhiều nơi\n",
      "\n",
      "## 2. State\n",
      "Trong khi `props` là không thể thay đổi thì `state` là kiểu dữ liệu có thể update được trong tương lai\n",
      "\n",
      "Nghe có vẻ khó hiểu nhưng bạn xem ví dụ dưới đây cho rõ ràng\n",
      "\n",
      "```javascript\n",
      "import React, { Component } from 'react';\n",
      "import { Text, View } from 'react-native';\n",
      "\n",
      "class Blink extends Component {\n",
      "  constructor(props) {\n",
      "    super(props);\n",
      "    this.state = {isShowingText: true};\n",
      "\n",
      "    // Toggle the state every second\n",
      "    setInterval(() => {\n",
      "      this.setState(previousState => {\n",
      "        return { isShowingText: !previousState.isShowingText };\n",
      "      });\n",
      "    }, 1000);\n",
      "  }\n",
      "\n",
      "  render() {\n",
      "    let display = this.state.isShowingText ? this.props.text : ' ';\n",
      "    return (\n",
      "      <Text>{display}</Text>\n",
      "    );\n",
      "  }\n",
      "}\n",
      "\n",
      "export default class BlinkApp extends Component {\n",
      "  render() {\n",
      "    return (\n",
      "      <View>\n",
      "        <Blink text='I love to blink' />\n",
      "        <Blink text='Yes blinking is so great' />\n",
      "        <Blink text='Why did they ever take this out of HTML' />\n",
      "        <Blink text='Look at me look at me look at me' />\n",
      "      </View>\n",
      "    );\n",
      "  }\n",
      "}\n",
      "```\n",
      "\n",
      "![](https://i.imgur.com/fyuYkCx.gif)\n",
      "\n",
      "Trong demo ở trên là ví dụ về sau 1 giây sẽ nhấp nháy chữ.\n",
      "\n",
      "Trong đó:\n",
      " - `props`: `text` trong `Blink` component\n",
      " - `state`: `isShowingText` là cờ để hiển thị\n",
      "\n",
      "\n",
      "\n",
      "## 3. Style\n",
      " `Style` sẽ gợi nhắc các bạn nghĩ ngay đến style của Web. Tất cả cấu trúc, biến, giá trị hầu hết đều giống với CSS\n",
      " Bạn hãy xem ví dụ dưới đây \n",
      " \n",
      "```javascript\n",
      "import React, { Component } from 'react';\n",
      "import { StyleSheet, Text, View } from 'react-native';\n",
      "\n",
      "export default class LotsOfStyles extends Component {\n",
      "  render() {\n",
      "    return (\n",
      "      <View>\n",
      "        <Text style={styles.red}>just red</Text>\n",
      "        <Text style={styles.bigblue}>just bigblue</Text>\n",
      "        <Text style={[styles.bigblue, styles.red]}>bigblue, then red</Text>\n",
      "        <Text style={[styles.red, styles.bigblue]}>red, then bigblue</Text>\n",
      "      </View>\n",
      "    );\n",
      "  }\n",
      "}\n",
      "\n",
      "const styles = StyleSheet.create({\n",
      "  bigblue: {\n",
      "    color: 'blue',\n",
      "    fontWeight: 'bold',\n",
      "    fontSize: 30,\n",
      "  },\n",
      "  red: {\n",
      "    color: 'red',\n",
      "  },\n",
      "});\n",
      "```\n",
      "\n",
      "Trong đó:\n",
      "- set 1 phần tử: `style={styles.red}` \n",
      "- set 2 phần tử trở lên sẽ phải để trong `[]` ví dụ như `style={[styles.red, styles.bigblue]}`\n",
      "\n",
      "## 4. Handling Touches\n",
      "\n",
      "Các phần trên là mới chỉ đáp ứng được việc hiển thị lên app. Còn trong phần này sẽ giúp cho User tương tác được với App. Đơn giản nhất là sự kiện click vào 1 nút\n",
      "\n",
      "Để dễ dàng nhất bạn hãy dùng cấu trúc như sau:\n",
      "\n",
      "```xml\n",
      "<View>\n",
      "    <Button \n",
      "     onPress={callFunction}       \n",
      "     />\n",
      "</View>\n",
      "```\n",
      "\n",
      "Để chi tiết hơn nữa bạn xem ví dụ sau:\n",
      "\n",
      "```javascript\n",
      "import React, { Component } from 'react';\n",
      "import { Alert, Button, StyleSheet, View } from 'react-native';\n",
      "\n",
      "export default class ButtonBasics extends Component {\n",
      "  _onPressButton() {\n",
      "    Alert.alert('You tapped the button!')\n",
      "  }\n",
      "\n",
      "  render() {\n",
      "    return (\n",
      "      <View style={styles.container}>\n",
      "        <View style={styles.buttonContainer}>\n",
      "          <Button\n",
      "            onPress={this._onPressButton}\n",
      "            title=\"Press Me\"\n",
      "          />\n",
      "        </View>\n",
      "        <View style={styles.buttonContainer}>\n",
      "          <Button\n",
      "            onPress={this._onPressButton}\n",
      "            title=\"Press Me\"\n",
      "            color=\"#841584\"\n",
      "          />\n",
      "        </View>\n",
      "        <View style={styles.alternativeLayoutButtonContainer}>\n",
      "          <Button\n",
      "            onPress={this._onPressButton}\n",
      "            title=\"This looks great!\"\n",
      "          />\n",
      "          <Button\n",
      "            onPress={this._onPressButton}\n",
      "            title=\"OK!\"\n",
      "            color=\"#841584\"\n",
      "          />\n",
      "        </View>\n",
      "      </View>\n",
      "    );\n",
      "  }\n",
      "}\n",
      "\n",
      "const styles = StyleSheet.create({\n",
      "  container: {\n",
      "   flex: 1,\n",
      "   justifyContent: 'center',\n",
      "  },\n",
      "  buttonContainer: {\n",
      "    margin: 20\n",
      "  },\n",
      "  alternativeLayoutButtonContainer: {\n",
      "    margin: 20,\n",
      "    flexDirection: 'row',\n",
      "    justifyContent: 'space-between'\n",
      "  }\n",
      "})\n",
      "```\n",
      "\n",
      "![](https://i.imgur.com/YlyCGn2.png)\n",
      "\n",
      "## 5. List Views\n",
      "\n",
      "React Native cung cấp 2 loại view để hiển thị list. Đó là: `FlatList` và `SectionList`\n",
      "\n",
      "\n",
      "`FlatList` làm việc khá tốt và mượn mà với những list dài, số lượng item có thể thay đổi được. Không giống như `ScrollView` thì `FlatList` chỉ render những thành phần nào được hiển thị trên màn hình, chứ không phải là hiển thị tất cả các thành phần trong List lên cùng 1 lúc.\n",
      "\n",
      "`FlatList` yêu cầu 2 props cơ bản: `data`và `renderItem`\n",
      "Trong đó:\n",
      "- `data` là dữ liệu để hiển thị lên list\n",
      "- `renderItem` là cách trình bày, màu, font, cỡ chữ trên ứng dụng\n",
      "\n",
      "Ví dụ:\n",
      "\n",
      "```javascript\n",
      "import React, { Component } from 'react';\n",
      "import { FlatList, StyleSheet, Text, View } from 'react-native';\n",
      "\n",
      "export default class FlatListBasics extends Component {\n",
      "  render() {\n",
      "    return (\n",
      "      <View style={styles.container}>\n",
      "        <FlatList\n",
      "          data={[\n",
      "            {key: 'Devin'},\n",
      "            {key: 'Jackson'},\n",
      "            {key: 'James'},\n",
      "            {key: 'Joel'},\n",
      "            {key: 'John'},\n",
      "            {key: 'Jillian'},\n",
      "            {key: 'Jimmy'},\n",
      "            {key: 'Julie'},\n",
      "\n",
      "            {key: 'Devin1'},\n",
      "            {key: 'Jackson1'},\n",
      "            {key: 'James1'},\n",
      "            {key: 'Joel1'},\n",
      "            {key: 'John1'},\n",
      "            {key: 'Jillian1'},\n",
      "            {key: 'Jimmy1'},\n",
      "            {key: 'Julie1'},\n",
      "\n",
      "            {key: 'Devin2'},\n",
      "            {key: 'Jackson2'},\n",
      "            {key: 'James2'},\n",
      "            {key: 'Joel2'},\n",
      "            {key: 'John2'},\n",
      "            {key: 'Jillian2'},\n",
      "            {key: 'Jimmy2'},\n",
      "            {key: 'Julie2'},\n",
      "          ]}\n",
      "          renderItem={({item}) => <Text style={styles.item}>{item.key}</Text>}\n",
      "        />\n",
      "      </View>\n",
      "    );\n",
      "  }\n",
      "}\n",
      "\n",
      "const styles = StyleSheet.create({\n",
      "  container: {\n",
      "   flex: 1,\n",
      "   paddingTop: 22\n",
      "  },\n",
      "  item: {\n",
      "    padding: 10,\n",
      "    fontSize: 18,\n",
      "    height: 44,\n",
      "  },\n",
      "})\n",
      "```\n",
      "\n",
      "![](https://i.imgur.com/RZFZcsT.gif)\n",
      "\n",
      "Nếu bạn muốn chia list hiển thị thành các nhóm khác nhau thì React Native cũng cung cấp cho bạn `SectionList` để làm việc này\n",
      "\n",
      "Ví dụ:\n",
      "\n",
      "```javascript\n",
      "import React, { Component } from 'react';\n",
      "import { SectionList, StyleSheet, Text, View } from 'react-native';\n",
      "\n",
      "export default class SectionListBasics extends Component {\n",
      "  render() {\n",
      "    return (\n",
      "      <View style={styles.container}>\n",
      "        <SectionList\n",
      "          sections={[\n",
      "            {title: 'D', data: ['Devin']},\n",
      "            {title: 'J', data: ['Jackson', 'James', 'Jillian', 'Jimmy', 'Joel', 'John', 'Julie']},\n",
      "          ]}\n",
      "          renderItem={({item}) => <Text style={styles.item}>{item}</Text>}\n",
      "          renderSectionHeader={({section}) => <Text style={styles.sectionHeader}>{section.title}</Text>}\n",
      "          keyExtractor={(item, index) => index}\n",
      "        />\n",
      "      </View>\n",
      "    );\n",
      "  }\n",
      "}\n",
      "\n",
      "const styles = StyleSheet.create({\n",
      "  container: {\n",
      "   flex: 1,\n",
      "   paddingTop: 22\n",
      "  },\n",
      "  sectionHeader: {\n",
      "    paddingTop: 2,\n",
      "    paddingLeft: 10,\n",
      "    paddingRight: 10,\n",
      "    paddingBottom: 2,\n",
      "    fontSize: 14,\n",
      "    fontWeight: 'bold',\n",
      "    backgroundColor: 'rgba(247,247,247,1.0)',\n",
      "  },\n",
      "  item: {\n",
      "    padding: 10,\n",
      "    fontSize: 18,\n",
      "    height: 44,\n",
      "  },\n",
      "})\n",
      "```\n",
      "\n",
      "![](https://i.imgur.com/9dLhnEq.png)\n",
      "# Kết luận\n",
      "Chúc bạn chạy được example mà không gặp phải lỗi nào nhé. Nếu có vấn đề gì thì bạn có thể comment dưới đây để mình support nhé\n",
      "\n",
      "Nguồn tham khảo: https://facebook.github.io/react-native/docs/tutorial.html\n"
     ]
    }
   ],
   "source": [
    "print(content[0])"
   ]
  },
  {
   "cell_type": "markdown",
   "metadata": {},
   "source": [
    "We will remove documents which it's text length is less than 1000. Because many documents do not have any meaning."
   ]
  },
  {
   "cell_type": "code",
   "execution_count": 7,
   "metadata": {},
   "outputs": [],
   "source": [
    "documents = []\n",
    "for c in content:\n",
    "    if len(c) > 1000:\n",
    "        documents.append(c)"
   ]
  },
  {
   "cell_type": "code",
   "execution_count": 8,
   "metadata": {},
   "outputs": [
    {
     "name": "stdout",
     "output_type": "stream",
     "text": [
      "13887\n"
     ]
    }
   ],
   "source": [
    "print(len(documents))"
   ]
  },
  {
   "cell_type": "markdown",
   "metadata": {},
   "source": [
    "# Implementation"
   ]
  },
  {
   "cell_type": "markdown",
   "metadata": {},
   "source": [
    "## TF-IDF"
   ]
  },
  {
   "cell_type": "code",
   "execution_count": 14,
   "metadata": {},
   "outputs": [],
   "source": [
    "from sklearn.feature_extraction.text import TfidfVectorizer, CountVectorizer"
   ]
  },
  {
   "cell_type": "markdown",
   "metadata": {},
   "source": [
    "#### Get the corpus used in TfIdf model"
   ]
  },
  {
   "cell_type": "code",
   "execution_count": 10,
   "metadata": {},
   "outputs": [],
   "source": [
    "def get_corpus(documents):\n",
    "    corpus = []\n",
    "    for i in tqdm(range(len(documents))):\n",
    "        doc = documents[i]\n",
    "        # preprocessing text, remove all letters which is not character\n",
    "        doc = gensim.utils.simple_preprocess(doc)\n",
    "        # because these documents is mostly written in Vietnamese\n",
    "        # we need to use an library which supporting Vietnamese\n",
    "        doc = ' '.join(doc)\n",
    "        words = ViTokenizer.tokenize(doc)\n",
    "        sentence = ' '.join(words)\n",
    "\n",
    "        corpus.append(sentence)\n",
    "    return corpus"
   ]
  },
  {
   "cell_type": "code",
   "execution_count": 11,
   "metadata": {
    "scrolled": true
   },
   "outputs": [
    {
     "name": "stderr",
     "output_type": "stream",
     "text": [
      "100%|██████████| 13887/13887 [05:11<00:00, 44.63it/s]\n"
     ]
    }
   ],
   "source": [
    "corpus = get_corpus(documents)"
   ]
  },
  {
   "cell_type": "markdown",
   "metadata": {},
   "source": [
    "#### Custom the tokenizer to use in TfidfVectorizer()"
   ]
  },
  {
   "cell_type": "code",
   "execution_count": 15,
   "metadata": {},
   "outputs": [],
   "source": [
    "def my_tokenizer(doc):\n",
    "#     doc = ViTokenizer.tokenize(doc)\n",
    "    doc = doc.split(\" \")\n",
    "    return doc"
   ]
  },
  {
   "cell_type": "markdown",
   "metadata": {},
   "source": [
    "#### Create an Vectorize object with max features (number of words in dictionary) to be 20000"
   ]
  },
  {
   "cell_type": "code",
   "execution_count": 16,
   "metadata": {},
   "outputs": [],
   "source": [
    "vectorizer = TfidfVectorizer(tokenizer=my_tokenizer, max_features=20000)"
   ]
  },
  {
   "cell_type": "markdown",
   "metadata": {},
   "source": [
    "#### Train model"
   ]
  },
  {
   "cell_type": "code",
   "execution_count": 17,
   "metadata": {},
   "outputs": [],
   "source": [
    "res_corpus = vectorizer.fit_transform(corpus)"
   ]
  },
  {
   "cell_type": "code",
   "execution_count": 19,
   "metadata": {},
   "outputs": [
    {
     "name": "stdout",
     "output_type": "stream",
     "text": [
      "20000\n"
     ]
    }
   ],
   "source": [
    "print(len(vectorizer.get_feature_names()))\n"
   ]
  },
  {
   "cell_type": "markdown",
   "metadata": {},
   "source": [
    "## SVD"
   ]
  },
  {
   "cell_type": "markdown",
   "metadata": {},
   "source": [
    "#### Reduce document vector's dimensions"
   ]
  },
  {
   "cell_type": "code",
   "execution_count": 20,
   "metadata": {},
   "outputs": [],
   "source": [
    "from sklearn.decomposition import TruncatedSVD\n",
    "svd = TruncatedSVD(n_components=300, random_state=42)"
   ]
  },
  {
   "cell_type": "code",
   "execution_count": 21,
   "metadata": {},
   "outputs": [],
   "source": [
    "truncated_corpus = svd.fit_transform(res_corpus)"
   ]
  },
  {
   "cell_type": "code",
   "execution_count": 22,
   "metadata": {},
   "outputs": [
    {
     "name": "stdout",
     "output_type": "stream",
     "text": [
      "(13887, 300)\n"
     ]
    }
   ],
   "source": [
    "print(truncated_corpus.shape)"
   ]
  },
  {
   "cell_type": "markdown",
   "metadata": {},
   "source": [
    "#### Save model"
   ]
  },
  {
   "cell_type": "code",
   "execution_count": 24,
   "metadata": {},
   "outputs": [
    {
     "name": "stdout",
     "output_type": "stream",
     "text": [
      "SAVED SUCESS\n"
     ]
    }
   ],
   "source": [
    "filename = 'tfidf_svd_20k_to_128.pkl'\n",
    "pickle.dump(svd, open(filename, 'wb'))\n",
    "print(\"SAVED SUCESS\")"
   ]
  },
  {
   "cell_type": "markdown",
   "metadata": {},
   "source": [
    "#### Calculate similarity values between documents"
   ]
  },
  {
   "cell_type": "code",
   "execution_count": 25,
   "metadata": {},
   "outputs": [],
   "source": [
    "from sklearn.metrics.pairwise import cosine_similarity"
   ]
  },
  {
   "cell_type": "code",
   "execution_count": 26,
   "metadata": {},
   "outputs": [],
   "source": [
    "similarity_matrix = cosine_similarity(truncated_corpus, truncated_corpus)"
   ]
  },
  {
   "cell_type": "markdown",
   "metadata": {},
   "source": [
    "#### Test for first document, get 10 most similar document"
   ]
  },
  {
   "cell_type": "code",
   "execution_count": 34,
   "metadata": {},
   "outputs": [
    {
     "data": {
      "text/plain": [
       "array([ 3515,   752,  9364, 12871, 11940,  1489,  2265, 13167, 11466,\n",
       "           0])"
      ]
     },
     "execution_count": 34,
     "metadata": {},
     "output_type": "execute_result"
    }
   ],
   "source": [
    "np.argsort(similarity_matrix[0])[-10:]"
   ]
  },
  {
   "cell_type": "code",
   "execution_count": 39,
   "metadata": {},
   "outputs": [
    {
     "name": "stdout",
     "output_type": "stream",
     "text": [
      "react native là gì react native là một frameworkework cho phép bạn xây_dựng một ứng_dụng trên native platforms sử_dụng kinh_nghiệm của lập_trình_viên bằng javascript và react http_facebook github io react trọng_tâm của react native là hiệu_quả của nhà phát_triển trên tất_cả các nền_tảng mà bạn quan_tâm học một lần viết trên bất_cứ nền_tảng nào facebook sử_dụng react native trên nhiều ứng_dụng và tiếp_tục đầu_tư vào react native native components các thành_phần native với react native bạn có_thể sử_dụng các thành_phần cơ_bản mặc_định của nền_tảng như uitabbar trên ios và drawer trên android điều này cho phép ứng_dụng có sự nhất_quán với phần còn lại của nền_tảng và giữ cho chất_lượng sản_phẩm cao các thành_phần này có_thể dễ_dàng tích_hợp vào ứng_dụng của bạn sử_dụng react component counterparts chẳng_hạn như tabbarios and javascript ios import react component tabbarios navigatorios from react native class app extends component render return tabbarios tabbarios item title react native selected true navigatorios initialroute title react native tabbarios item tabbarios javascript android import react component text from react native class app extends component render return text react native text asynchronous execution xử_lý không đồng_bộ mọi hoạt_động giữa javascript code và native platform đều được thực_hiện không đồng_bộ và các native module cũng có_thể sử_dụng thêm các threads khác tốt điều này có nghĩa_là chúng_ta có_thể giải_mã ảnh không nằm tren main thread lưu vào bộ_nhớ trong luồng background tính_toán và sắp_xếp giao_diện sẽ không làm đơ giao_diện và còn nhiều hơn thế nữa kết_quả là ứng_dụng được viết bằng react native hoạt_động và đáp_ứng giống như app được viết bằng native các phương_án giao_tiếp cũng được hỗ_trợ đầy_đủ cho phép bạn sử_dụng chrome developer tool để debug javascript khi chạy các ứng_dụng hoàn_chỉnh trên công_cụ mô_phỏng hoặc thiết_bị thật png uploads ea_da ac afc png touch handling xử_lý tương_tác chạm react native đã thực_hiện một hệ_thống mạnh_mẽ để xử_lý các thao_tác chạm trên giao_diện và cung_cấp các công_cụ như tích_hợp các giao_diện có_thể cuộn được và nhiều phần_tử khác mà không cần cấu_hình gì thêm javascipt ios android import react component scrollview text from react native class touchdemo extends component render return scrollview onpress console log pressed text proper touch handling text scrollview flexbox and styling sắp_xếp bố_trí giao_diện cần được thực_hiện một các dễ_dàng đó là lý_do vì sao react native sử_dụng chế_độ flexbox layout từ web vào react native flexbox khiến việc xây_dựng hầu_hết các giao_diện cơ_bản trở thàn công_việc dễ_dàng như giao_diện stacked và nested boxes với margin và padding react native cũng hỗ_trợ các web styles phổ_biến như fontweight và cung_cấp một các tối_ưu để giải_quyết các vấn_đề về thiết_kế giao_diện javascript ios android var react component image stylesheet text view from react native class reactnative extends component render return view style styles row image source uri http_facebook github io react img logo_og png style styles image view style styles text text style styles title react native text text style styles subtitle build high quality mobile apps using react text view view var styles stylesheet create row flexdirection row margin image width height marginright text flex justifycontent center title fontsize fontweight bold subtitle fontsize extensibility khả_năng mở_rộng điều tuyệt_vời là bạn có_thể xây_dựng một ứng_dụng bằng react native mà không cần viết cho mỗi nền_tảng tuy_nhiên react native cũng được thiết_kế để dễ_dàng mở_rộng với các views và modules native đã được tuỳ biến điều này có nghĩa_là bạn có_thể tái sử_dụng tất_cả những gì bạn đã xây_dựng trước đó hoặc có_thể sử_dụng các thư_viện native mà bạn thích tạo modules cho ios để tạo modules trên ios bạn tạo một class kế_thừa rctbridgemodule prototcol và viết hàm bạn muốn có bên javascript trong hàm ngoài_ra chính class phải được exported rõ_ràng với objective objective import rctbridgemodule interface mycustommodule nsobject rctbridgemodule end implementation mycustommodule available as nativemodules mycustommodule processstring processstring nsstring input callback callback callback input goodbye withstring hello end javascript import react component nativemodules text from react native class message extends component constructor props super props this state text goodbye world nativemodules mycustommodule processstring this state text text this setstate text render return text this state text text tạo ios views_tuỳ chỉnh ios views có_thể kế_thừa class rctviewmanager thực_hiện hàm uiview và đăng_ký các thuộc_tính với macro objective objective import rctviewmanager interface rctviewmanager end implementation uiview view return mycustomview alloc init nsstring end javascript javascript import react component from react native var mycustomview mycustomview export default class mycustomview extends component static proptypes react proptypes oneof render return this props\n"
     ]
    }
   ],
   "source": [
    "print(corpus[11466])"
   ]
  },
  {
   "cell_type": "markdown",
   "metadata": {},
   "source": [
    "## Doc2Vec"
   ]
  },
  {
   "cell_type": "markdown",
   "metadata": {},
   "source": [
    "#### Create Corpus which is trained in Doc2Vec Model"
   ]
  },
  {
   "cell_type": "code",
   "execution_count": 9,
   "metadata": {},
   "outputs": [],
   "source": [
    "def get_training_corpus(documents):\n",
    "    corpus = []\n",
    "    for i in tqdm(range(len(documents))):\n",
    "        doc = documents[i]\n",
    "        # preprocessing text, remove all letters which is not character\n",
    "        doc = gensim.utils.simple_preprocess(doc) \n",
    "        # because these documents is mostly written in Vietnamese\n",
    "        # we need to use an library which supporting Vietnamese\n",
    "        doc = ' '.join(doc)\n",
    "        words = ViTokenizer.tokenize(doc)\n",
    "        # convert to format used in Doc2Vec function below\n",
    "        tagged_document = gensim.models.doc2vec.TaggedDocument(words.split(\" \"), [i])\n",
    "        corpus.append(tagged_document)\n",
    "    return corpus"
   ]
  },
  {
   "cell_type": "code",
   "execution_count": null,
   "metadata": {},
   "outputs": [],
   "source": [
    "train_corpus = get_training_corpus(documents)"
   ]
  },
  {
   "cell_type": "markdown",
   "metadata": {},
   "source": [
    "#### Build Doc2Vec Model"
   ]
  },
  {
   "cell_type": "code",
   "execution_count": null,
   "metadata": {},
   "outputs": [],
   "source": [
    "# build a Doc2Vec model with vector size 300\n",
    "# remove all the words which occur less than 2 times\n",
    "# training in 40 epochs\n",
    "model = gensim.models.doc2vec.Doc2Vec(vector_size=300, min_count=2, epochs=40)\n",
    "model.build_vocab(train_corpus)"
   ]
  },
  {
   "cell_type": "code",
   "execution_count": null,
   "metadata": {},
   "outputs": [],
   "source": [
    "# train model and get the training time\n",
    "%time model.train(train_corpus, total_examples=model.corpus_count, epochs=model.epochs)"
   ]
  },
  {
   "cell_type": "markdown",
   "metadata": {},
   "source": [
    "#### Test for first document"
   ]
  },
  {
   "cell_type": "code",
   "execution_count": null,
   "metadata": {},
   "outputs": [],
   "source": [
    "# get the vector for first document\n",
    "vector = model.infer_vector(train_corpus[0].words)"
   ]
  },
  {
   "cell_type": "code",
   "execution_count": null,
   "metadata": {},
   "outputs": [],
   "source": [
    "# get first 100 similar documents to first document\n",
    "sims = model.docvecs.most_similar([vector], topn=100)"
   ]
  },
  {
   "cell_type": "code",
   "execution_count": null,
   "metadata": {
    "scrolled": true
   },
   "outputs": [],
   "source": [
    "for i in range(10):\n",
    "    print(i, \" : \", sims[i][0])"
   ]
  },
  {
   "cell_type": "code",
   "execution_count": null,
   "metadata": {},
   "outputs": [],
   "source": []
  },
  {
   "cell_type": "code",
   "execution_count": null,
   "metadata": {},
   "outputs": [],
   "source": []
  },
  {
   "cell_type": "code",
   "execution_count": null,
   "metadata": {},
   "outputs": [],
   "source": []
  },
  {
   "cell_type": "code",
   "execution_count": null,
   "metadata": {},
   "outputs": [],
   "source": []
  },
  {
   "cell_type": "code",
   "execution_count": null,
   "metadata": {},
   "outputs": [],
   "source": []
  },
  {
   "cell_type": "code",
   "execution_count": null,
   "metadata": {},
   "outputs": [],
   "source": []
  },
  {
   "cell_type": "code",
   "execution_count": null,
   "metadata": {},
   "outputs": [],
   "source": []
  },
  {
   "cell_type": "code",
   "execution_count": null,
   "metadata": {},
   "outputs": [],
   "source": []
  },
  {
   "cell_type": "code",
   "execution_count": null,
   "metadata": {},
   "outputs": [],
   "source": []
  },
  {
   "cell_type": "code",
   "execution_count": null,
   "metadata": {},
   "outputs": [],
   "source": []
  }
 ],
 "metadata": {
  "kernelspec": {
   "display_name": "Python 3",
   "language": "python",
   "name": "python3"
  },
  "language_info": {
   "codemirror_mode": {
    "name": "ipython",
    "version": 3
   },
   "file_extension": ".py",
   "mimetype": "text/x-python",
   "name": "python",
   "nbconvert_exporter": "python",
   "pygments_lexer": "ipython3",
   "version": "3.6.5"
  }
 },
 "nbformat": 4,
 "nbformat_minor": 2
}
